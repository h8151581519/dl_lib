{
 "cells": [
  {
   "cell_type": "code",
   "execution_count": 1,
   "metadata": {},
   "outputs": [],
   "source": [
    "import matplotlib.pyplot as plt\n",
    "import numpy as np"
   ]
  },
  {
   "cell_type": "code",
   "execution_count": 2,
   "metadata": {},
   "outputs": [],
   "source": [
    "from dl_lib import *\n",
    "from Mnist import mnist_imgread, mnist_labread"
   ]
  },
  {
   "cell_type": "code",
   "execution_count": 3,
   "metadata": {},
   "outputs": [],
   "source": [
    "def prt_dataset(images, labels):\n",
    "    plt.figure(figsize=(10,10))\n",
    "    for i in range(10):\n",
    "        plt.subplot(5,5,i+1)\n",
    "        plt.xticks([])\n",
    "        plt.yticks([])\n",
    "        plt.grid(False)\n",
    "        plt.imshow(images[i].reshape(images.shape[1], images.shape[2]), cmap=plt.cm.binary)\n",
    "        plt.xlabel('label:' + str(labels[i]))\n",
    "    plt.show()\n",
    "\n",
    "def plt_result(results:dict):\n",
    "    for k, v in results.items():\n",
    "        plt.plot(v, label=k)\n",
    "    plt.xlabel('Epoch')\n",
    "    plt.ylabel(k)\n",
    "    plt.legend(loc='upper left')"
   ]
  },
  {
   "cell_type": "code",
   "execution_count": 4,
   "metadata": {},
   "outputs": [
    {
     "name": "stdout",
     "output_type": "stream",
     "text": [
      "train data\n",
      "img shape:(60000, 28, 28, 1), lab shape:(60000, 1)\n"
     ]
    },
    {
     "data": {
      "image/png": "[encoded data removed]",
      "text/plain": [
       "<Figure size 720x720 with 10 Axes>"
      ]
     },
     "metadata": {},
     "output_type": "display_data"
    }
   ],
   "source": [
    "### read dataset\n",
    "train_imgs = mnist_imgread('./dataset/train-images-idx3-ubyte.gz')\n",
    "train_labs = mnist_labread('./dataset/train-labels-idx1-ubyte.gz')\n",
    "print('train data\\nimg shape:{}, lab shape:{}'.format(train_imgs.shape, train_labs.shape))\n",
    "prt_dataset(train_imgs, train_labs)"
   ]
  },
  {
   "cell_type": "code",
   "execution_count": 5,
   "metadata": {},
   "outputs": [
    {
     "name": "stdout",
     "output_type": "stream",
     "text": [
      "train data\n",
      "img shape:(60000, 28, 28, 1), lab shape:(60000, 1)\n"
     ]
    },
    {
     "data": {
      "image/png": "[encoded data removed]",
      "text/plain": [
       "<Figure size 720x720 with 10 Axes>"
      ]
     },
     "metadata": {},
     "output_type": "display_data"
    }
   ],
   "source": [
    "test_imgs = mnist_imgread('./dataset/t10k-images-idx3-ubyte.gz')\n",
    "test_labs = mnist_labread('./dataset/t10k-labels-idx1-ubyte.gz')\n",
    "print('train data\\nimg shape:{}, lab shape:{}'.format(train_imgs.shape, train_labs.shape))\n",
    "prt_dataset(test_imgs, test_labs)"
   ]
  },
  {
   "cell_type": "markdown",
   "metadata": {},
   "source": [
    "## model 輸入"
   ]
  },
  {
   "cell_type": "code",
   "execution_count": 6,
   "metadata": {},
   "outputs": [
    {
     "name": "stdout",
     "output_type": "stream",
     "text": [
      "train_x : (60000, 28, 28, 1)\n",
      "test_x (10000, 28, 28, 1)\n"
     ]
    }
   ],
   "source": [
    "### model x\n",
    "train_x = train_imgs\n",
    "test_x = test_imgs\n",
    "print('train_x :', train_x.shape)\n",
    "print('test_x', test_x.shape)"
   ]
  },
  {
   "cell_type": "code",
   "execution_count": 7,
   "metadata": {},
   "outputs": [
    {
     "name": "stdout",
     "output_type": "stream",
     "text": [
      "train_y : (60000, 10, 1)\n",
      "test_y (10000, 10, 1)\n"
     ]
    }
   ],
   "source": [
    "### model y (labels one hot encoding)\n",
    "onehot = OneHot(np.arange(0,10))\n",
    "train_y = onehot.encoding(train_labs)\n",
    "test_y = onehot.encoding(test_labs)\n",
    "print('train_y :', train_y.shape)\n",
    "print('test_y', test_y.shape)"
   ]
  },
  {
   "cell_type": "markdown",
   "metadata": {},
   "source": [
    "## 創建模組"
   ]
  },
  {
   "cell_type": "code",
   "execution_count": 8,
   "metadata": {},
   "outputs": [],
   "source": [
    "layers = (\n",
    "    Flatten(),\n",
    "\n",
    "\n",
    "    Dense(128),\n",
    "    BatchNorm(),\n",
    "    ReLU(),\n",
    "    Dropout(0.25),\n",
    "\n",
    "    Dense(10),\n",
    "    Softmax(),\n",
    "\n",
    ")"
   ]
  },
  {
   "cell_type": "code",
   "execution_count": 9,
   "metadata": {},
   "outputs": [],
   "source": [
    "model = Model(layers=layers)\n",
    "loss = CategoricalCrossEntropy()\n",
    "optimizer=Adam(learning_rate=0.0005)\n",
    "model.compile(optimizer=optimizer, lossfunc=loss)"
   ]
  },
  {
   "cell_type": "code",
   "execution_count": 10,
   "metadata": {
    "scrolled": false
   },
   "outputs": [
    {
     "name": "stdout",
     "output_type": "stream",
     "text": [
      "\n",
      "<01> --------------------------------------------------------------------------------\n",
      "    training[========================>] acc:86.61, loss:6.544e-01\n",
      "    evaluate[========================>] acc:92.24, loss:2.880e-01\n",
      "\n",
      "<02> --------------------------------------------------------------------------------\n",
      "    training[========================>] acc:93.35, loss:2.262e-01\n",
      "    evaluate[========================>] acc:94.42, loss:1.827e-01\n",
      "\n",
      "<03> --------------------------------------------------------------------------------\n",
      "    training[========================>] acc:95.12, loss:1.618e-01\n",
      "    evaluate[========================>] acc:95.61, loss:1.461e-01\n",
      "\n",
      "<04> --------------------------------------------------------------------------------\n",
      "    training[========================>] acc:96.07, loss:1.307e-01\n",
      "    evaluate[========================>] acc:96.23, loss:1.255e-01\n",
      "\n",
      "<05> --------------------------------------------------------------------------------\n",
      "    training[========================>] acc:96.65, loss:1.109e-01\n",
      "    evaluate[========================>] acc:96.69, loss:1.124e-01\n",
      "\n",
      "<06> --------------------------------------------------------------------------------\n",
      "    training[========================>] acc:97.09, loss:9.613e-02\n",
      "    evaluate[========================>] acc:96.97, loss:1.032e-01\n",
      "\n",
      "<07> --------------------------------------------------------------------------------\n",
      "    training[========================>] acc:97.43, loss:8.502e-02\n",
      "    evaluate[========================>] acc:97.14, loss:9.824e-02\n",
      "\n",
      "<08> --------------------------------------------------------------------------------\n",
      "    training[========================>] acc:97.70, loss:7.629e-02\n",
      "    evaluate[========================>] acc:97.32, loss:9.260e-02\n",
      "\n",
      "<09> --------------------------------------------------------------------------------\n",
      "    training[========================>] acc:97.93, loss:6.919e-02\n",
      "    evaluate[========================>] acc:97.38, loss:9.017e-02\n",
      "\n",
      "<10> --------------------------------------------------------------------------------\n",
      "    training[========================>] acc:98.07, loss:6.337e-02\n",
      "    evaluate[========================>] acc:97.48, loss:8.666e-02\n",
      "\n",
      "<11> --------------------------------------------------------------------------------\n",
      "    training[========================>] acc:98.23, loss:5.787e-02\n",
      "    evaluate[========================>] acc:97.50, loss:8.538e-02\n",
      "\n",
      "<12> --------------------------------------------------------------------------------\n",
      "    training[========================>] acc:98.38, loss:5.319e-02\n",
      "    evaluate[========================>] acc:97.60, loss:8.268e-02\n",
      "\n",
      "<13> --------------------------------------------------------------------------------\n",
      "    training[========================>] acc:98.55, loss:4.938e-02\n",
      "    evaluate[========================>] acc:97.60, loss:8.165e-02\n",
      "\n",
      "<14> --------------------------------------------------------------------------------\n",
      "    training[========================>] acc:98.62, loss:4.562e-02\n",
      "    evaluate[========================>] acc:97.75, loss:7.920e-02\n",
      "\n",
      "<15> --------------------------------------------------------------------------------\n",
      "    training[========================>] acc:98.72, loss:4.268e-02\n",
      "    evaluate[========================>] acc:97.80, loss:7.953e-02\n",
      "\n",
      "<16> --------------------------------------------------------------------------------\n",
      "    training[========================>] acc:98.78, loss:3.989e-02\n",
      "    evaluate[========================>] acc:97.88, loss:7.590e-02\n",
      "\n",
      "<17> --------------------------------------------------------------------------------\n",
      "    training[========================>] acc:98.87, loss:3.700e-02\n",
      "    evaluate[========================>] acc:97.87, loss:7.539e-02\n",
      "\n",
      "<18> --------------------------------------------------------------------------------\n",
      "    training[========================>] acc:98.99, loss:3.473e-02\n",
      "    evaluate[========================>] acc:97.92, loss:7.528e-02\n",
      "\n",
      "<19> --------------------------------------------------------------------------------\n",
      "    training[========================>] acc:99.04, loss:3.237e-02\n",
      "    evaluate[========================>] acc:97.92, loss:7.561e-02\n",
      "\n",
      "<20> --------------------------------------------------------------------------------\n",
      "    training[========================>] acc:99.08, loss:3.107e-02\n",
      "    evaluate[========================>] acc:97.91, loss:7.509e-02\n",
      "\n",
      "<21> --------------------------------------------------------------------------------\n",
      "    training[========================>] acc:99.17, loss:2.845e-02\n",
      "    evaluate[========================>] acc:98.03, loss:7.568e-02\n",
      "\n",
      "<22> --------------------------------------------------------------------------------\n",
      "    training[========================>] acc:99.24, loss:2.713e-02\n",
      "    evaluate[========================>] acc:97.90, loss:7.614e-02\n",
      "\n",
      "<23> --------------------------------------------------------------------------------\n",
      "    training[========================>] acc:99.26, loss:2.561e-022\n",
      "    evaluate[========================>] acc:97.96, loss:7.462e-02\n",
      "\n",
      "<24> --------------------------------------------------------------------------------\n",
      "    training[========================>] acc:99.34, loss:2.421e-02\n",
      "    evaluate[========================>] acc:97.92, loss:7.588e-02\n",
      "\n",
      "<25> --------------------------------------------------------------------------------\n",
      "    training[========================>] acc:99.37, loss:2.292e-02\n",
      "    evaluate[========================>] acc:98.00, loss:7.354e-02\n",
      "\n",
      "<26> --------------------------------------------------------------------------------\n",
      "    training[========================>] acc:99.42, loss:2.146e-02\n",
      "    evaluate[========================>] acc:97.97, loss:7.445e-02\n",
      "\n",
      "<27> --------------------------------------------------------------------------------\n",
      "    training[========================>] acc:99.45, loss:2.051e-02\n",
      "    evaluate[========================>] acc:98.04, loss:7.440e-02\n",
      "\n",
      "<28> --------------------------------------------------------------------------------\n",
      "    training[========================>] acc:99.48, loss:1.935e-02\n",
      "    evaluate[========================>] acc:98.07, loss:7.391e-02\n",
      "\n",
      "<29> --------------------------------------------------------------------------------\n",
      "    training[========================>] acc:99.55, loss:1.829e-022\n",
      "    evaluate[========================>] acc:98.04, loss:7.592e-02\n",
      "\n",
      "<30> --------------------------------------------------------------------------------\n",
      "    training[========================>] acc:99.59, loss:1.736e-023\n",
      "    evaluate[========================>] acc:98.06, loss:7.525e-02\n",
      "\n",
      "<31> --------------------------------------------------------------------------------\n",
      "    training[========================>] acc:99.59, loss:1.650e-02\n",
      "    evaluate[========================>] acc:97.99, loss:7.347e-02\n",
      "\n",
      "<32> --------------------------------------------------------------------------------\n",
      "    training[========================>] acc:99.61, loss:1.564e-02\n",
      "    evaluate[========================>] acc:98.04, loss:7.425e-02\n",
      "\n",
      "<33> --------------------------------------------------------------------------------\n",
      "    training[========================>] acc:99.64, loss:1.489e-023\n",
      "    evaluate[========================>] acc:98.06, loss:7.468e-02\n",
      "\n",
      "<34> --------------------------------------------------------------------------------\n",
      "    training[========================>] acc:99.66, loss:1.434e-02\n",
      "    evaluate[========================>] acc:98.05, loss:7.555e-02\n",
      "\n",
      "<35> --------------------------------------------------------------------------------\n",
      "    training[========================>] acc:99.68, loss:1.362e-023\n",
      "    evaluate[========================>] acc:98.10, loss:7.596e-02\n",
      "\n",
      "<36> --------------------------------------------------------------------------------\n",
      "    training[========================>] acc:99.71, loss:1.285e-023\n",
      "    evaluate[========================>] acc:98.05, loss:7.669e-02\n",
      "\n",
      "<37> --------------------------------------------------------------------------------\n",
      "    training[========================>] acc:99.72, loss:1.237e-023\n",
      "    evaluate[========================>] acc:98.12, loss:7.594e-02\n",
      "\n",
      "<38> --------------------------------------------------------------------------------\n"
     ]
    },
    {
     "name": "stdout",
     "output_type": "stream",
     "text": [
      "    training[========================>] acc:99.73, loss:1.156e-02\n",
      "    evaluate[========================>] acc:98.10, loss:7.699e-02\n",
      "\n",
      "<39> --------------------------------------------------------------------------------\n",
      "    training[========================>] acc:99.77, loss:1.107e-02\n",
      "    evaluate[========================>] acc:98.04, loss:7.638e-02\n",
      "\n",
      "<40> --------------------------------------------------------------------------------\n",
      "    training[========================>] acc:99.77, loss:1.071e-023\n",
      "    evaluate[========================>] acc:98.10, loss:7.676e-02\n",
      "\n",
      "<41> --------------------------------------------------------------------------------\n",
      "    training[========================>] acc:99.79, loss:1.025e-02\n",
      "    evaluate[========================>] acc:98.02, loss:7.837e-02\n",
      "\n",
      "<42> --------------------------------------------------------------------------------\n",
      "    training[========================>] acc:99.81, loss:9.621e-03\n",
      "    evaluate[========================>] acc:98.05, loss:7.858e-02\n",
      "\n",
      "<43> --------------------------------------------------------------------------------\n",
      "    training[========================>] acc:99.82, loss:9.298e-033\n",
      "    evaluate[========================>] acc:98.03, loss:7.753e-02\n",
      "\n",
      "<44> --------------------------------------------------------------------------------\n",
      "    training[========================>] acc:99.81, loss:8.940e-03\n",
      "    evaluate[========================>] acc:98.15, loss:7.690e-02\n",
      "\n",
      "<45> --------------------------------------------------------------------------------\n",
      "    training[========================>] acc:99.83, loss:8.518e-033\n",
      "    evaluate[========================>] acc:98.11, loss:7.775e-02\n",
      "\n",
      "<46> --------------------------------------------------------------------------------\n",
      "    training[========================>] acc:99.84, loss:8.041e-033\n",
      "    evaluate[========================>] acc:98.03, loss:8.020e-02\n",
      "\n",
      "<47> --------------------------------------------------------------------------------\n",
      "    training[========================>] acc:99.87, loss:7.741e-03\n",
      "    evaluate[========================>] acc:98.09, loss:7.915e-02\n",
      "\n",
      "<48> --------------------------------------------------------------------------------\n",
      "    training[========================>] acc:99.90, loss:7.393e-033\n",
      "    evaluate[========================>] acc:98.04, loss:7.896e-02\n",
      "\n",
      "<49> --------------------------------------------------------------------------------\n",
      "    training[========================>] acc:99.88, loss:7.118e-03\n",
      "    evaluate[========================>] acc:98.13, loss:7.968e-02\n",
      "\n",
      "<50> --------------------------------------------------------------------------------\n",
      "    training[========================>] acc:99.89, loss:6.822e-033\n",
      "    evaluate[========================>] acc:98.11, loss:7.982e-02\n"
     ]
    }
   ],
   "source": [
    "### training\n",
    "history = model.fit(train_x, train_y, test_x, test_y, epoch=50, batch_size=256, clean_opt=50)"
   ]
  },
  {
   "cell_type": "code",
   "execution_count": 11,
   "metadata": {},
   "outputs": [],
   "source": [
    "model.save('./mnist_h128_10.model')"
   ]
  },
  {
   "cell_type": "code",
   "execution_count": 12,
   "metadata": {},
   "outputs": [
    {
     "data": {
      "image/png": "[encoded data removed]",
      "text/plain": [
       "<Figure size 432x288 with 1 Axes>"
      ]
     },
     "metadata": {
      "needs_background": "light"
     },
     "output_type": "display_data"
    }
   ],
   "source": [
    "### 損失函數\n",
    "plt_result({\n",
    "    'loss' : history['los'],\n",
    "    'val_loss': history['val_los'],\n",
    "})"
   ]
  },
  {
   "cell_type": "code",
   "execution_count": 13,
   "metadata": {},
   "outputs": [
    {
     "data": {
      "image/png": "[encoded data removed]",
      "text/plain": [
       "<Figure size 432x288 with 1 Axes>"
      ]
     },
     "metadata": {
      "needs_background": "light"
     },
     "output_type": "display_data"
    }
   ],
   "source": [
    "# 準確度\n",
    "plt_result({\n",
    "    'accuracy': history['acc'],\n",
    "    'val_accuracy' : history['val_acc'],\n",
    "})"
   ]
  },
  {
   "cell_type": "code",
   "execution_count": 14,
   "metadata": {},
   "outputs": [
    {
     "name": "stdout",
     "output_type": "stream",
     "text": [
      "    evaluate[>                        ] acc:99.61, loss:3.814e-02\r",
      "    evaluate[>                        ] acc:98.63, loss:6.482e-02\r",
      "    evaluate[=>                       ] acc:98.44, loss:7.079e-02\r",
      "    evaluate[=>                       ] acc:98.24, loss:8.057e-02\r",
      "    evaluate[==>                      ] acc:97.89, loss:1.035e-01\r",
      "    evaluate[===>                     ] acc:97.72, loss:1.064e-01\r",
      "    evaluate[===>                     ] acc:97.54, loss:1.129e-01\r",
      "    evaluate[====>                    ] acc:97.46, loss:1.142e-01\r",
      "    evaluate[=====>                   ] acc:97.31, loss:1.207e-01\r",
      "    evaluate[=====>                   ] acc:97.19, loss:1.190e-01\r",
      "    evaluate[======>                  ] acc:97.23, loss:1.153e-01\r",
      "    evaluate[=======>                 ] acc:97.23, loss:1.139e-01\r",
      "    evaluate[=======>                 ] acc:97.36, loss:1.110e-01\r",
      "    evaluate[========>                ] acc:97.29, loss:1.157e-01\r",
      "    evaluate[========>                ] acc:97.27, loss:1.164e-01\r",
      "    evaluate[=========>               ] acc:97.27, loss:1.187e-01\r",
      "    evaluate[==========>              ] acc:97.22, loss:1.173e-01\r",
      "    evaluate[==========>              ] acc:97.22, loss:1.163e-01\r",
      "    evaluate[===========>             ] acc:97.27, loss:1.143e-01\r",
      "    evaluate[============>            ] acc:97.34, loss:1.124e-01\r",
      "    evaluate[============>            ] acc:97.45, loss:1.079e-01\r",
      "    evaluate[=============>           ] acc:97.55, loss:1.039e-01\r",
      "    evaluate[==============>          ] acc:97.59, loss:1.020e-01\r",
      "    evaluate[==============>          ] acc:97.53, loss:1.029e-01\r",
      "    evaluate[===============>         ] acc:97.61, loss:9.903e-02\r",
      "    evaluate[================>        ] acc:97.58, loss:1.008e-01\r",
      "    evaluate[================>        ] acc:97.66, loss:9.801e-02\r",
      "    evaluate[=================>       ] acc:97.74, loss:9.456e-02\r",
      "    evaluate[=================>       ] acc:97.80, loss:9.165e-02\r",
      "    evaluate[==================>      ] acc:97.86, loss:8.884e-02\r",
      "    evaluate[===================>     ] acc:97.91, loss:8.650e-02\r",
      "    evaluate[===================>     ] acc:97.95, loss:8.463e-02\r",
      "    evaluate[====================>    ] acc:97.98, loss:8.328e-02\r",
      "    evaluate[=====================>   ] acc:98.02, loss:8.115e-02\r",
      "    evaluate[=====================>   ] acc:98.08, loss:7.884e-02\r",
      "    evaluate[======================>  ] acc:98.09, loss:7.999e-02\r",
      "    evaluate[=======================> ] acc:98.13, loss:7.800e-02\r",
      "    evaluate[=======================> ] acc:98.13, loss:7.874e-02\r",
      "    evaluate[========================>] acc:98.11, loss:7.982e-02\r\n"
     ]
    },
    {
     "data": {
      "text/plain": [
       "(0.9811109539969834, 0.07982347166770284)"
      ]
     },
     "execution_count": 14,
     "metadata": {},
     "output_type": "execute_result"
    }
   ],
   "source": [
    "### 模組評估\n",
    "model.evaluate(test_x, test_y)"
   ]
  },
  {
   "cell_type": "code",
   "execution_count": null,
   "metadata": {},
   "outputs": [],
   "source": []
  },
  {
   "cell_type": "code",
   "execution_count": null,
   "metadata": {},
   "outputs": [],
   "source": []
  },
  {
   "cell_type": "code",
   "execution_count": null,
   "metadata": {},
   "outputs": [],
   "source": []
  },
  {
   "cell_type": "code",
   "execution_count": null,
   "metadata": {},
   "outputs": [],
   "source": []
  }
 ],
 "metadata": {
  "kernelspec": {
   "display_name": "Python 3",
   "language": "python",
   "name": "python3"
  },
  "language_info": {
   "codemirror_mode": {
    "name": "ipython",
    "version": 3
   },
   "file_extension": ".py",
   "mimetype": "text/x-python",
   "name": "python",
   "nbconvert_exporter": "python",
   "pygments_lexer": "ipython3",
   "version": "3.7.5"
  }
 },
 "nbformat": 4,
 "nbformat_minor": 4
}
