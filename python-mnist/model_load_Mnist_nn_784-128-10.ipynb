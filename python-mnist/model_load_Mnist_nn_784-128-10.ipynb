{
 "cells": [
  {
   "cell_type": "code",
   "execution_count": 1,
   "metadata": {},
   "outputs": [],
   "source": [
    "import matplotlib.pyplot as plt\n",
    "import numpy as np"
   ]
  },
  {
   "cell_type": "code",
   "execution_count": 2,
   "metadata": {},
   "outputs": [],
   "source": [
    "from dl_lib import Model, OneHot\n",
    "from Mnist import mnist_imgread, mnist_labread"
   ]
  },
  {
   "cell_type": "code",
   "execution_count": 3,
   "metadata": {},
   "outputs": [
    {
     "name": "stdout",
     "output_type": "stream",
     "text": [
      "test data\n",
      "img shape:(10000, 28, 28, 1), lab shape:(10000, 1)\n"
     ]
    }
   ],
   "source": [
    "### read dataset\n",
    "test_imgs = mnist_imgread('./dataset/t10k-images-idx3-ubyte.gz')\n",
    "test_labs = mnist_labread('./dataset/t10k-labels-idx1-ubyte.gz')\n",
    "print('test data\\nimg shape:{}, lab shape:{}'.format(test_imgs.shape, test_labs.shape))"
   ]
  },
  {
   "cell_type": "code",
   "execution_count": 4,
   "metadata": {},
   "outputs": [
    {
     "name": "stdout",
     "output_type": "stream",
     "text": [
      "test_x (10000, 28, 28, 1)\n",
      "test_y (10000, 10, 1)\n"
     ]
    }
   ],
   "source": [
    "### model x\n",
    "test_x = test_imgs\n",
    "print('test_x', test_x.shape)\n",
    "### model y (labels one hot encoding)\n",
    "onehot = OneHot(np.arange(0,10))\n",
    "test_y = onehot.encoding(test_labs)\n",
    "print('test_y', test_y.shape)"
   ]
  },
  {
   "cell_type": "code",
   "execution_count": 5,
   "metadata": {},
   "outputs": [],
   "source": [
    "### 讀取模型\n",
    "model = Model.load('./mnist_h128_10.model')"
   ]
  },
  {
   "cell_type": "code",
   "execution_count": 6,
   "metadata": {},
   "outputs": [
    {
     "name": "stdout",
     "output_type": "stream",
     "text": [
      "    evaluate[>                        ] acc:99.61, loss:3.814e-02\r",
      "    evaluate[>                        ] acc:98.63, loss:6.482e-02\r",
      "    evaluate[=>                       ] acc:98.44, loss:7.079e-02\r",
      "    evaluate[=>                       ] acc:98.24, loss:8.057e-02\r",
      "    evaluate[==>                      ] acc:97.89, loss:1.035e-01\r",
      "    evaluate[===>                     ] acc:97.72, loss:1.064e-01\r",
      "    evaluate[===>                     ] acc:97.54, loss:1.129e-01\r",
      "    evaluate[====>                    ] acc:97.46, loss:1.142e-01\r",
      "    evaluate[=====>                   ] acc:97.31, loss:1.207e-01\r",
      "    evaluate[=====>                   ] acc:97.19, loss:1.190e-01\r",
      "    evaluate[======>                  ] acc:97.23, loss:1.153e-01\r",
      "    evaluate[=======>                 ] acc:97.23, loss:1.139e-01\r",
      "    evaluate[=======>                 ] acc:97.36, loss:1.110e-01\r",
      "    evaluate[========>                ] acc:97.29, loss:1.157e-01\r",
      "    evaluate[========>                ] acc:97.27, loss:1.164e-01\r",
      "    evaluate[=========>               ] acc:97.27, loss:1.187e-01\r",
      "    evaluate[==========>              ] acc:97.22, loss:1.173e-01\r",
      "    evaluate[==========>              ] acc:97.22, loss:1.163e-01\r",
      "    evaluate[===========>             ] acc:97.27, loss:1.143e-01\r",
      "    evaluate[============>            ] acc:97.34, loss:1.124e-01\r",
      "    evaluate[============>            ] acc:97.45, loss:1.079e-01\r",
      "    evaluate[=============>           ] acc:97.55, loss:1.039e-01\r",
      "    evaluate[==============>          ] acc:97.59, loss:1.020e-01\r",
      "    evaluate[==============>          ] acc:97.53, loss:1.029e-01\r",
      "    evaluate[===============>         ] acc:97.61, loss:9.903e-02\r",
      "    evaluate[================>        ] acc:97.58, loss:1.008e-01\r",
      "    evaluate[================>        ] acc:97.66, loss:9.801e-02\r",
      "    evaluate[=================>       ] acc:97.74, loss:9.456e-02\r",
      "    evaluate[=================>       ] acc:97.80, loss:9.165e-02\r",
      "    evaluate[==================>      ] acc:97.86, loss:8.884e-02\r",
      "    evaluate[===================>     ] acc:97.91, loss:8.650e-02\r",
      "    evaluate[===================>     ] acc:97.95, loss:8.463e-02\r",
      "    evaluate[====================>    ] acc:97.98, loss:8.328e-02\r",
      "    evaluate[=====================>   ] acc:98.02, loss:8.115e-02\r",
      "    evaluate[=====================>   ] acc:98.08, loss:7.884e-02\r",
      "    evaluate[======================>  ] acc:98.09, loss:7.999e-02\r",
      "    evaluate[=======================> ] acc:98.13, loss:7.800e-02\r",
      "    evaluate[=======================> ] acc:98.13, loss:7.874e-02\r",
      "    evaluate[========================>] acc:98.11, loss:7.982e-02\r\n",
      "model: (0.9811109539969834, 0.07982347166770284)\n"
     ]
    }
   ],
   "source": [
    "### 模組評估\n",
    "print('model:', model.evaluate(test_x, test_y))"
   ]
  },
  {
   "cell_type": "code",
   "execution_count": 7,
   "metadata": {},
   "outputs": [
    {
     "name": "stdout",
     "output_type": "stream",
     "text": [
      "實際: [7 2 1 0 4 1 4 9 5 9]\n",
      "預測: [7 2 1 0 4 1 4 9 5 9]\n"
     ]
    }
   ],
   "source": [
    "### 實際\n",
    "original = onehot.decoding(test_y[:10])\n",
    "### 預測\n",
    "prediction = model.predict(test_x[:10])\n",
    "prediction = onehot.decoding(prediction)\n",
    "\n",
    "print('實際:', original)\n",
    "print('預測:', prediction)"
   ]
  },
  {
   "cell_type": "code",
   "execution_count": 8,
   "metadata": {},
   "outputs": [
    {
     "name": "stdout",
     "output_type": "stream",
     "text": [
      "    get_diff[========================>] 189\n",
      "預測失誤總數: 189\n"
     ]
    }
   ],
   "source": [
    "### 實際與預測不同\n",
    "diff_index = model.get_diff(test_x, test_y)\n",
    "print('預測失誤總數:', len(diff_index))"
   ]
  },
  {
   "cell_type": "code",
   "execution_count": 9,
   "metadata": {},
   "outputs": [
    {
     "data": {
      "text/plain": [
       "[247,\n",
       " 259,\n",
       " 321,\n",
       " 340,\n",
       " 381,\n",
       " 445,\n",
       " 495,\n",
       " 582,\n",
       " 619,\n",
       " 659,\n",
       " 691,\n",
       " 720,\n",
       " 844,\n",
       " 882,\n",
       " 947,\n",
       " 956,\n",
       " 965,\n",
       " 1014,\n",
       " 1039,\n",
       " 1112,\n",
       " 1182,\n",
       " 1192,\n",
       " 1226,\n",
       " 1232,\n",
       " 1242,\n",
       " 1247,\n",
       " 1260,\n",
       " 1319,\n",
       " 1328,\n",
       " 1393,\n",
       " 1414,\n",
       " 1500,\n",
       " 1522,\n",
       " 1527,\n",
       " 1530,\n",
       " 1549,\n",
       " 1553,\n",
       " 1609,\n",
       " 1681,\n",
       " 1709,\n",
       " 1717,\n",
       " 1751,\n",
       " 1754,\n",
       " 1790,\n",
       " 1878,\n",
       " 1901,\n",
       " 1941,\n",
       " 2004,\n",
       " 2016,\n",
       " 2035,\n",
       " 2043,\n",
       " 2044,\n",
       " 2053,\n",
       " 2098,\n",
       " 2109,\n",
       " 2118,\n",
       " 2130,\n",
       " 2135,\n",
       " 2182,\n",
       " 2185,\n",
       " 2272,\n",
       " 2293,\n",
       " 2329,\n",
       " 2387,\n",
       " 2395,\n",
       " 2406,\n",
       " 2422,\n",
       " 2426,\n",
       " 2454,\n",
       " 2488,\n",
       " 2514,\n",
       " 2534,\n",
       " 2597,\n",
       " 2607,\n",
       " 2635,\n",
       " 2648,\n",
       " 2654,\n",
       " 2810,\n",
       " 2896,\n",
       " 2921,\n",
       " 2927,\n",
       " 2930,\n",
       " 2939,\n",
       " 2953,\n",
       " 3060,\n",
       " 3073,\n",
       " 3117,\n",
       " 3130,\n",
       " 3422,\n",
       " 3503,\n",
       " 3520,\n",
       " 3533,\n",
       " 3549,\n",
       " 3550,\n",
       " 3558,\n",
       " 3559,\n",
       " 3567,\n",
       " 3597,\n",
       " 3681,\n",
       " 3767,\n",
       " 3780,\n",
       " 3796,\n",
       " 3808,\n",
       " 3818,\n",
       " 3838,\n",
       " 3853,\n",
       " 3906,\n",
       " 3941,\n",
       " 3943,\n",
       " 4065,\n",
       " 4075,\n",
       " 4078,\n",
       " 4140,\n",
       " 4152,\n",
       " 4163,\n",
       " 4176,\n",
       " 4199,\n",
       " 4224,\n",
       " 4248,\n",
       " 4289,\n",
       " 4306,\n",
       " 4355,\n",
       " 4369,\n",
       " 4425,\n",
       " 4497,\n",
       " 4500,\n",
       " 4536,\n",
       " 4571,\n",
       " 4740,\n",
       " 4761,\n",
       " 4807,\n",
       " 4823,\n",
       " 4860,\n",
       " 4880,\n",
       " 4956,\n",
       " 4966,\n",
       " 5331,\n",
       " 5457,\n",
       " 5642,\n",
       " 5734,\n",
       " 5842,\n",
       " 5887,\n",
       " 5888,\n",
       " 5937,\n",
       " 5955,\n",
       " 5972,\n",
       " 5973,\n",
       " 6011,\n",
       " 6023,\n",
       " 6045,\n",
       " 6059,\n",
       " 6091,\n",
       " 6166,\n",
       " 6555,\n",
       " 6558,\n",
       " 6571,\n",
       " 6574,\n",
       " 6576,\n",
       " 6597,\n",
       " 6625,\n",
       " 6651,\n",
       " 6755,\n",
       " 7216,\n",
       " 7434,\n",
       " 7821,\n",
       " 7921,\n",
       " 8062,\n",
       " 8094,\n",
       " 8273,\n",
       " 8311,\n",
       " 8325,\n",
       " 8527,\n",
       " 9009,\n",
       " 9015,\n",
       " 9019,\n",
       " 9024,\n",
       " 9280,\n",
       " 9587,\n",
       " 9634,\n",
       " 9664,\n",
       " 9679,\n",
       " 9698,\n",
       " 9729,\n",
       " 9745,\n",
       " 9768,\n",
       " 9770,\n",
       " 9792,\n",
       " 9811,\n",
       " 9839]"
      ]
     },
     "execution_count": 9,
     "metadata": {},
     "output_type": "execute_result"
    }
   ],
   "source": [
    "diff_index"
   ]
  },
  {
   "cell_type": "code",
   "execution_count": null,
   "metadata": {},
   "outputs": [],
   "source": []
  }
 ],
 "metadata": {
  "kernelspec": {
   "display_name": "Python 3",
   "language": "python",
   "name": "python3"
  },
  "language_info": {
   "codemirror_mode": {
    "name": "ipython",
    "version": 3
   },
   "file_extension": ".py",
   "mimetype": "text/x-python",
   "name": "python",
   "nbconvert_exporter": "python",
   "pygments_lexer": "ipython3",
   "version": "3.7.5"
  }
 },
 "nbformat": 4,
 "nbformat_minor": 4
}
