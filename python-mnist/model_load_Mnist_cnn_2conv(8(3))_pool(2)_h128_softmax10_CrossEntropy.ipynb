{
 "cells": [
  {
   "cell_type": "code",
   "execution_count": 1,
   "metadata": {},
   "outputs": [],
   "source": [
    "import matplotlib.pyplot as plt\n",
    "import numpy as np"
   ]
  },
  {
   "cell_type": "code",
   "execution_count": 2,
   "metadata": {},
   "outputs": [],
   "source": [
    "from dl_lib import Model, OneHot\n",
    "from Mnist import mnist_imgread, mnist_labread"
   ]
  },
  {
   "cell_type": "code",
   "execution_count": 3,
   "metadata": {},
   "outputs": [
    {
     "name": "stdout",
     "output_type": "stream",
     "text": [
      "test data\n",
      "img shape:(10000, 28, 28, 1), lab shape:(10000, 1)\n"
     ]
    }
   ],
   "source": [
    "### read dataset\n",
    "test_imgs = mnist_imgread('./dataset/t10k-images-idx3-ubyte.gz')\n",
    "test_labs = mnist_labread('./dataset/t10k-labels-idx1-ubyte.gz')\n",
    "print('test data\\nimg shape:{}, lab shape:{}'.format(test_imgs.shape, test_labs.shape))"
   ]
  },
  {
   "cell_type": "code",
   "execution_count": 4,
   "metadata": {},
   "outputs": [
    {
     "name": "stdout",
     "output_type": "stream",
     "text": [
      "test_x (10000, 28, 28, 1)\n",
      "test_y (10000, 10, 1)\n"
     ]
    }
   ],
   "source": [
    "### model x\n",
    "test_x = test_imgs\n",
    "print('test_x', test_x.shape)\n",
    "### model y (labels one hot encoding)\n",
    "onehot = OneHot(np.arange(0,10))\n",
    "test_y = onehot.encoding(test_labs)\n",
    "print('test_y', test_y.shape)"
   ]
  },
  {
   "cell_type": "code",
   "execution_count": 5,
   "metadata": {},
   "outputs": [],
   "source": [
    "### 讀取模型\n",
    "cnn_model = Model.load('./Mnist_cnn_2conv(8(3))_pool(2)_h128_softmax10_CrossEntropy_.model')"
   ]
  },
  {
   "cell_type": "code",
   "execution_count": 6,
   "metadata": {},
   "outputs": [
    {
     "name": "stdout",
     "output_type": "stream",
     "text": [
      "    evaluate[=======================> ] acc:98.93, loss:5.447e-02\n",
      "cnn_model: (0.9892546656820622, 0.054471732517248364)\n"
     ]
    }
   ],
   "source": [
    "### 模組評估\n",
    "print('cnn_model:', cnn_model.evaluate(test_x, test_y))"
   ]
  },
  {
   "cell_type": "code",
   "execution_count": 7,
   "metadata": {},
   "outputs": [
    {
     "name": "stdout",
     "output_type": "stream",
     "text": [
      "實際: [7 2 1 0 4 1 4 9 5 9]\n",
      "cnn_model預測: [7 2 1 0 4 1 4 9 5 9]\n"
     ]
    }
   ],
   "source": [
    "### 實際\n",
    "original = onehot.decoding(test_y)\n",
    "### cnn_model預測\n",
    "cnn_prediction = cnn_model.predict(test_x[:10])\n",
    "cnn_prediction = onehot.decoding(cnn_prediction)\n",
    "\n",
    "print('實際:', original[:10])\n",
    "print('cnn_model預測:', cnn_prediction)"
   ]
  },
  {
   "cell_type": "code",
   "execution_count": 8,
   "metadata": {},
   "outputs": [
    {
     "name": "stdout",
     "output_type": "stream",
     "text": [
      "    get_diff[=======================> ] 108\n",
      "cnn_model預測失誤總數: 108\n"
     ]
    }
   ],
   "source": [
    "### cnn_model 實際與預測不同\n",
    "diff_index = cnn_model.get_diff(test_x, test_y)\n",
    "print('cnn_model預測失誤總數:', len(diff_index))"
   ]
  },
  {
   "cell_type": "code",
   "execution_count": 9,
   "metadata": {},
   "outputs": [
    {
     "data": {
      "text/plain": [
       "[115,\n",
       " 247,\n",
       " 321,\n",
       " 340,\n",
       " 445,\n",
       " 582,\n",
       " 619,\n",
       " 659,\n",
       " 813,\n",
       " 882,\n",
       " 947,\n",
       " 1014,\n",
       " 1039,\n",
       " 1044,\n",
       " 1112,\n",
       " 1226,\n",
       " 1247,\n",
       " 1260,\n",
       " 1319,\n",
       " 1378,\n",
       " 1414,\n",
       " 1549,\n",
       " 1621,\n",
       " 1641,\n",
       " 1681,\n",
       " 1709,\n",
       " 1717,\n",
       " 1754,\n",
       " 1790,\n",
       " 1878,\n",
       " 1901,\n",
       " 1982,\n",
       " 2035,\n",
       " 2040,\n",
       " 2043,\n",
       " 2053,\n",
       " 2118,\n",
       " 2130,\n",
       " 2135,\n",
       " 2182,\n",
       " 2293,\n",
       " 2329,\n",
       " 2369,\n",
       " 2462,\n",
       " 2488,\n",
       " 2597,\n",
       " 2654,\n",
       " 2896,\n",
       " 2921,\n",
       " 2927,\n",
       " 2939,\n",
       " 2953,\n",
       " 3030,\n",
       " 3073,\n",
       " 3225,\n",
       " 3422,\n",
       " 3520,\n",
       " 3558,\n",
       " 3597,\n",
       " 3726,\n",
       " 3727,\n",
       " 3762,\n",
       " 3767,\n",
       " 3808,\n",
       " 3906,\n",
       " 3941,\n",
       " 4065,\n",
       " 4075,\n",
       " 4176,\n",
       " 4199,\n",
       " 4201,\n",
       " 4248,\n",
       " 4350,\n",
       " 4497,\n",
       " 4504,\n",
       " 4699,\n",
       " 4740,\n",
       " 4761,\n",
       " 4783,\n",
       " 4807,\n",
       " 4823,\n",
       " 4860,\n",
       " 5887,\n",
       " 5937,\n",
       " 5955,\n",
       " 6576,\n",
       " 6625,\n",
       " 6651,\n",
       " 6783,\n",
       " 7216,\n",
       " 7434,\n",
       " 8094,\n",
       " 8246,\n",
       " 8527,\n",
       " 9009,\n",
       " 9015,\n",
       " 9019,\n",
       " 9024,\n",
       " 9540,\n",
       " 9587,\n",
       " 9634,\n",
       " 9664,\n",
       " 9679,\n",
       " 9729,\n",
       " 9768,\n",
       " 9792,\n",
       " 9811,\n",
       " 9839]"
      ]
     },
     "execution_count": 9,
     "metadata": {},
     "output_type": "execute_result"
    }
   ],
   "source": [
    "diff_index"
   ]
  },
  {
   "cell_type": "code",
   "execution_count": null,
   "metadata": {},
   "outputs": [],
   "source": []
  }
 ],
 "metadata": {
  "kernelspec": {
   "display_name": "Python 3",
   "language": "python",
   "name": "python3"
  },
  "language_info": {
   "codemirror_mode": {
    "name": "ipython",
    "version": 3
   },
   "file_extension": ".py",
   "mimetype": "text/x-python",
   "name": "python",
   "nbconvert_exporter": "python",
   "pygments_lexer": "ipython3",
   "version": "3.8.3"
  }
 },
 "nbformat": 4,
 "nbformat_minor": 4
}
