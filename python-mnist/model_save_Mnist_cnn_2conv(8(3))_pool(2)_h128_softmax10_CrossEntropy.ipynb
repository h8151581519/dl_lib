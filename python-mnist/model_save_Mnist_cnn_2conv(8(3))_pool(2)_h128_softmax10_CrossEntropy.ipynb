{
 "cells": [
  {
   "cell_type": "code",
   "execution_count": 1,
   "metadata": {},
   "outputs": [],
   "source": [
    "import matplotlib.pyplot as plt\n",
    "import numpy as np"
   ]
  },
  {
   "cell_type": "code",
   "execution_count": 2,
   "metadata": {},
   "outputs": [],
   "source": [
    "from dl_lib import *\n",
    "from Mnist import mnist_imgread, mnist_labread"
   ]
  },
  {
   "cell_type": "code",
   "execution_count": 3,
   "metadata": {},
   "outputs": [],
   "source": [
    "def prt_dataset(images, labels):\n",
    "    plt.figure(figsize=(10,10))\n",
    "    for i in range(10):\n",
    "        plt.subplot(5,5,i+1)\n",
    "        plt.xticks([])\n",
    "        plt.yticks([])\n",
    "        plt.grid(False)\n",
    "        plt.imshow(images[i].reshape(images.shape[1], images.shape[2]), cmap=plt.cm.binary)\n",
    "        plt.xlabel('label:' + str(labels[i]))\n",
    "    plt.show()\n",
    "\n",
    "def plt_result(results:dict):\n",
    "    for k, v in results.items():\n",
    "        plt.plot(v, label=k)\n",
    "    plt.xlabel('Epoch')\n",
    "    plt.ylabel(k)\n",
    "    plt.legend(loc='upper left')"
   ]
  },
  {
   "cell_type": "code",
   "execution_count": 4,
   "metadata": {},
   "outputs": [
    {
     "name": "stdout",
     "output_type": "stream",
     "text": [
      "train data\n",
      "img shape:(60000, 28, 28, 1), lab shape:(60000, 1)\n"
     ]
    },
    {
     "data": {
      "image/png": "[encoded data removed]",
      "text/plain": [
       "<Figure size 720x720 with 10 Axes>"
      ]
     },
     "metadata": {},
     "output_type": "display_data"
    }
   ],
   "source": [
    "### read dataset\n",
    "train_imgs = mnist_imgread('./dataset/train-images-idx3-ubyte.gz')\n",
    "train_labs = mnist_labread('./dataset/train-labels-idx1-ubyte.gz')\n",
    "print('train data\\nimg shape:{}, lab shape:{}'.format(train_imgs.shape, train_labs.shape))\n",
    "prt_dataset(train_imgs, train_labs)"
   ]
  },
  {
   "cell_type": "code",
   "execution_count": 5,
   "metadata": {},
   "outputs": [
    {
     "name": "stdout",
     "output_type": "stream",
     "text": [
      "test data\n",
      "img shape:(10000, 28, 28, 1), lab shape:(10000, 1)\n"
     ]
    },
    {
     "data": {
      "image/png": "[encoded data removed]",
      "text/plain": [
       "<Figure size 720x720 with 10 Axes>"
      ]
     },
     "metadata": {},
     "output_type": "display_data"
    }
   ],
   "source": [
    "test_imgs = mnist_imgread('./dataset/t10k-images-idx3-ubyte.gz')\n",
    "test_labs = mnist_labread('./dataset/t10k-labels-idx1-ubyte.gz')\n",
    "print('test data\\nimg shape:{}, lab shape:{}'.format(test_imgs.shape, test_labs.shape))\n",
    "prt_dataset(test_imgs, test_labs)"
   ]
  },
  {
   "cell_type": "code",
   "execution_count": 6,
   "metadata": {},
   "outputs": [
    {
     "name": "stdout",
     "output_type": "stream",
     "text": [
      "train_x : (60000, 28, 28, 1)\n",
      "test_x (10000, 28, 28, 1)\n"
     ]
    }
   ],
   "source": [
    "### model x\n",
    "train_x, test_x = train_imgs, test_imgs\n",
    "print('train_x :', train_x.shape)\n",
    "print('test_x', test_x.shape)"
   ]
  },
  {
   "cell_type": "code",
   "execution_count": 7,
   "metadata": {},
   "outputs": [
    {
     "name": "stdout",
     "output_type": "stream",
     "text": [
      "train_y : (60000, 10, 1)\n",
      "test_y (10000, 10, 1)\n"
     ]
    }
   ],
   "source": [
    "### model y (labels one hot encoding)\n",
    "onehot = OneHot(np.arange(0,10))\n",
    "train_y, test_y = onehot.encoding(train_labs), onehot.encoding(test_labs)\n",
    "# train_y, test_y = train_labs, test_labs\n",
    "print('train_y :', train_y.shape)\n",
    "print('test_y', test_y.shape)"
   ]
  },
  {
   "cell_type": "markdown",
   "metadata": {},
   "source": [
    "## cnn_2conv(8(3))_pool(2)_h128_softmax10_CrossEntropy_"
   ]
  },
  {
   "cell_type": "code",
   "execution_count": 8,
   "metadata": {},
   "outputs": [],
   "source": [
    "layers = (\n",
    "    \n",
    "    Conv(k_no=8, k_size=3, is_add_padding=True),\n",
    "    ReLU(),\n",
    "    Conv(k_no=8, k_size=3, is_add_padding=True),\n",
    "    ReLU(),\n",
    "    MaxPooling(2),\n",
    "    Dropout(0.05),\n",
    "\n",
    "    Flatten(),\n",
    "\n",
    "    Dense(128),\n",
    "    BatchNorm(),\n",
    "    ReLU(),\n",
    "    Dropout(0.5),\n",
    "\n",
    "    Dense(10),\n",
    "    Softmax(),\n",
    ")"
   ]
  },
  {
   "cell_type": "code",
   "execution_count": 9,
   "metadata": {},
   "outputs": [],
   "source": [
    "model = Model(layers=layers)\n",
    "loss = CategoricalCrossEntropy()\n",
    "optimizer=Adam(learning_rate=0.005)\n",
    "model.compile(optimizer=optimizer, lossfunc=loss)"
   ]
  },
  {
   "cell_type": "code",
   "execution_count": 10,
   "metadata": {
    "scrolled": false
   },
   "outputs": [
    {
     "name": "stdout",
     "output_type": "stream",
     "text": [
      "\n",
      "<01> --------------------------------------------------------------------------------\n",
      "    training[========================>] acc:90.13, loss:4.922e-01\n",
      "    evaluate[=======================> ] acc:94.62, loss:1.721e-01\n",
      "\n",
      "<02> --------------------------------------------------------------------------------\n",
      "    training[========================>] acc:96.24, loss:1.312e-01\n",
      "    evaluate[=======================> ] acc:97.45, loss:8.525e-02\n",
      "\n",
      "<03> --------------------------------------------------------------------------------\n",
      "    training[========================>] acc:97.80, loss:7.807e-02\n",
      "    evaluate[=======================> ] acc:97.94, loss:6.630e-02\n",
      "\n",
      "<04> --------------------------------------------------------------------------------\n",
      "    training[========================>] acc:98.45, loss:5.603e-02\n",
      "    evaluate[=======================> ] acc:98.36, loss:6.133e-02\n",
      "\n",
      "<05> --------------------------------------------------------------------------------\n",
      "    training[========================>] acc:98.81, loss:4.382e-02\n",
      "    evaluate[=======================> ] acc:98.62, loss:4.795e-02\n",
      "\n",
      "<06> --------------------------------------------------------------------------------\n",
      "    training[========================>] acc:98.98, loss:3.649e-02\n",
      "    evaluate[=======================> ] acc:98.42, loss:5.552e-02\n",
      "\n",
      "<07> --------------------------------------------------------------------------------\n",
      "    training[========================>] acc:99.22, loss:2.801e-02\n",
      "    evaluate[=======================> ] acc:98.68, loss:5.250e-02\n",
      "\n",
      "<08> --------------------------------------------------------------------------------\n",
      "    training[========================>] acc:99.36, loss:2.242e-02\n",
      "    evaluate[=======================> ] acc:98.70, loss:5.026e-02\n",
      "\n",
      "<09> --------------------------------------------------------------------------------\n",
      "    training[========================>] acc:99.52, loss:1.645e-02\n",
      "    evaluate[=======================> ] acc:98.75, loss:5.669e-02\n",
      "\n",
      "<10> --------------------------------------------------------------------------------\n",
      "    training[========================>] acc:99.55, loss:1.490e-02\n",
      "    evaluate[=======================> ] acc:98.90, loss:4.766e-02\n",
      "\n",
      "<11> --------------------------------------------------------------------------------\n",
      "    training[========================>] acc:99.70, loss:1.050e-02\n",
      "    evaluate[=======================> ] acc:98.89, loss:4.851e-02\n",
      "\n",
      "<12> --------------------------------------------------------------------------------\n",
      "    training[========================>] acc:99.74, loss:8.729e-03\n",
      "    evaluate[=======================> ] acc:98.92, loss:4.795e-02\n",
      "\n",
      "<13> --------------------------------------------------------------------------------\n",
      "    training[========================>] acc:99.73, loss:8.451e-034\n",
      "    evaluate[=======================> ] acc:98.93, loss:5.476e-02\n",
      "\n",
      "<14> --------------------------------------------------------------------------------\n",
      "    training[========================>] acc:99.80, loss:6.413e-033\n",
      "    evaluate[=======================> ] acc:98.96, loss:5.148e-02\n",
      "\n",
      "<15> --------------------------------------------------------------------------------\n",
      "    training[========================>] acc:99.84, loss:5.268e-033\n",
      "    evaluate[=======================> ] acc:99.09, loss:4.878e-02\n",
      "\n",
      "<16> --------------------------------------------------------------------------------\n",
      "    training[========================>] acc:99.85, loss:4.218e-034\n",
      "    evaluate[=======================> ] acc:98.92, loss:5.181e-02\n",
      "\n",
      "<17> --------------------------------------------------------------------------------\n",
      "    training[========================>] acc:99.86, loss:4.462e-03\n",
      "    evaluate[=======================> ] acc:98.97, loss:5.402e-02\n",
      "\n",
      "<18> --------------------------------------------------------------------------------\n",
      "    training[========================>] acc:99.89, loss:3.176e-034\n",
      "    evaluate[=======================> ] acc:98.97, loss:5.011e-02\n",
      "\n",
      "<19> --------------------------------------------------------------------------------\n",
      "    training[========================>] acc:99.90, loss:3.015e-033\n",
      "    evaluate[=======================> ] acc:98.93, loss:5.972e-02\n",
      "\n",
      "<20> --------------------------------------------------------------------------------\n",
      "    training[========================>] acc:99.90, loss:2.683e-034\n",
      "    evaluate[=======================> ] acc:98.93, loss:5.447e-02\n"
     ]
    }
   ],
   "source": [
    "### training\n",
    "history = model.fit(train_x, train_y, test_x, test_y, epoch=20, batch_size=512, clean_opt=10)"
   ]
  },
  {
   "cell_type": "code",
   "execution_count": 11,
   "metadata": {},
   "outputs": [],
   "source": [
    "model.save('./Mnist_cnn_2conv(8(3))_pool(2)_h128_softmax10_CrossEntropy_.model')"
   ]
  },
  {
   "cell_type": "code",
   "execution_count": 12,
   "metadata": {},
   "outputs": [
    {
     "data": {
      "image/png": "[encoded data removed]",
      "text/plain": [
       "<Figure size 432x288 with 1 Axes>"
      ]
     },
     "metadata": {
      "needs_background": "light"
     },
     "output_type": "display_data"
    }
   ],
   "source": [
    "### 損失函數\n",
    "plt_result({\n",
    "    'loss' : history['los'],\n",
    "    'val_loss': history['val_los'],\n",
    "})"
   ]
  },
  {
   "cell_type": "code",
   "execution_count": 13,
   "metadata": {},
   "outputs": [
    {
     "data": {
      "image/png": "[encoded data removed]",
      "text/plain": [
       "<Figure size 432x288 with 1 Axes>"
      ]
     },
     "metadata": {
      "needs_background": "light"
     },
     "output_type": "display_data"
    }
   ],
   "source": [
    "# 準確度\n",
    "plt_result({\n",
    "    'accuracy': history['acc'],\n",
    "    'val_accuracy' : history['val_acc'],\n",
    "})"
   ]
  },
  {
   "cell_type": "code",
   "execution_count": 14,
   "metadata": {},
   "outputs": [
    {
     "name": "stdout",
     "output_type": "stream",
     "text": [
      "    evaluate[=======================> ] acc:98.93, loss:5.447e-02\n"
     ]
    },
    {
     "data": {
      "text/plain": [
       "(0.9892546656820622, 0.054471732517248364)"
      ]
     },
     "execution_count": 14,
     "metadata": {},
     "output_type": "execute_result"
    }
   ],
   "source": [
    "### 模組評估\n",
    "model.evaluate(test_x, test_y)"
   ]
  },
  {
   "cell_type": "code",
   "execution_count": null,
   "metadata": {},
   "outputs": [],
   "source": []
  },
  {
   "cell_type": "code",
   "execution_count": null,
   "metadata": {},
   "outputs": [],
   "source": []
  },
  {
   "cell_type": "code",
   "execution_count": null,
   "metadata": {},
   "outputs": [],
   "source": []
  }
 ],
 "metadata": {
  "kernelspec": {
   "display_name": "Python 3",
   "language": "python",
   "name": "python3"
  },
  "language_info": {
   "codemirror_mode": {
    "name": "ipython",
    "version": 3
   },
   "file_extension": ".py",
   "mimetype": "text/x-python",
   "name": "python",
   "nbconvert_exporter": "python",
   "pygments_lexer": "ipython3",
   "version": "3.8.3"
  }
 },
 "nbformat": 4,
 "nbformat_minor": 4
}
